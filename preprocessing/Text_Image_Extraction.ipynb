{
 "cells": [
  {
   "cell_type": "markdown",
   "id": "intended-single",
   "metadata": {},
   "source": [
    "# Sports14 Text/Image Feature Extraction"
   ]
  },
  {
   "cell_type": "markdown",
   "id": "champion-county",
   "metadata": {},
   "source": []
  },
  {
   "cell_type": "code",
   "execution_count": 2,
   "id": "coupled-brighton",
   "metadata": {
    "pycharm": {
     "name": "#%%\n"
    }
   },
   "outputs": [],
   "source": [
    "\n",
    "import os\n",
    "import numpy as np\n",
    "import pandas as pd"
   ]
  },
  {
   "cell_type": "code",
   "execution_count": 3,
   "id": "committed-norwegian",
   "metadata": {
    "pycharm": {
     "is_executing": true,
     "name": "#%%\n"
    }
   },
   "outputs": [
    {
     "data": {
      "text/plain": [
       "'/nfs/user/MMRec/Amazon_Elec_Dataset'"
      ]
     },
     "execution_count": 3,
     "metadata": {},
     "output_type": "execute_result"
    }
   ],
   "source": [
    "os.chdir('/nfs/user/MMRec/Amazon_Elec_Dataset')\n",
    "os.getcwd()"
   ]
  },
  {
   "cell_type": "markdown",
   "id": "productive-canon",
   "metadata": {},
   "source": [
    "## Load text data"
   ]
  },
  {
   "cell_type": "code",
   "execution_count": 4,
   "id": "warming-journalist",
   "metadata": {
    "pycharm": {
     "name": "#%%\n"
    }
   },
   "outputs": [
    {
     "name": "stdout",
     "output_type": "stream",
     "text": [
      "data loaded!\n",
      "shape: (63001, 10)\n"
     ]
    },
    {
     "data": {
      "text/html": [
       "<div>\n",
       "<style scoped>\n",
       "    .dataframe tbody tr th:only-of-type {\n",
       "        vertical-align: middle;\n",
       "    }\n",
       "\n",
       "    .dataframe tbody tr th {\n",
       "        vertical-align: top;\n",
       "    }\n",
       "\n",
       "    .dataframe thead th {\n",
       "        text-align: right;\n",
       "    }\n",
       "</style>\n",
       "<table border=\"1\" class=\"dataframe\">\n",
       "  <thead>\n",
       "    <tr style=\"text-align: right;\">\n",
       "      <th></th>\n",
       "      <th>itemID</th>\n",
       "      <th>asin</th>\n",
       "      <th>imUrl</th>\n",
       "      <th>description</th>\n",
       "      <th>categories</th>\n",
       "      <th>title</th>\n",
       "      <th>price</th>\n",
       "      <th>salesRank</th>\n",
       "      <th>related</th>\n",
       "      <th>brand</th>\n",
       "    </tr>\n",
       "  </thead>\n",
       "  <tbody>\n",
       "    <tr>\n",
       "      <th>0</th>\n",
       "      <td>0</td>\n",
       "      <td>0528881469</td>\n",
       "      <td>http://ecx.images-amazon.com/images/I/51FnRkJq...</td>\n",
       "      <td>Like its award-winning predecessor, the Intell...</td>\n",
       "      <td>[['Electronics', 'GPS &amp; Navigation', 'Vehicle ...</td>\n",
       "      <td>Rand McNally 528881469 7-inch Intelliroute TND...</td>\n",
       "      <td>299.99</td>\n",
       "      <td>NaN</td>\n",
       "      <td>{'also_viewed': ['B006ZOI9OY', 'B00C7FKT2A', '...</td>\n",
       "      <td>NaN</td>\n",
       "    </tr>\n",
       "    <tr>\n",
       "      <th>1</th>\n",
       "      <td>1</td>\n",
       "      <td>0594451647</td>\n",
       "      <td>http://ecx.images-amazon.com/images/I/51RjSETO...</td>\n",
       "      <td>HDTV Adapter Kit for NOOK HD and NOOK HD+\\nThi...</td>\n",
       "      <td>[['Electronics', 'Computers &amp; Accessories', 'T...</td>\n",
       "      <td>Barnes &amp;amp; Noble HDTV Adapter Kit for NOOK H...</td>\n",
       "      <td>49.95</td>\n",
       "      <td>NaN</td>\n",
       "      <td>{'also_bought': ['B009L7EEZA', 'B00AGAYQEU', '...</td>\n",
       "      <td>NaN</td>\n",
       "    </tr>\n",
       "    <tr>\n",
       "      <th>2</th>\n",
       "      <td>2</td>\n",
       "      <td>0594481813</td>\n",
       "      <td>http://ecx.images-amazon.com/images/I/41K7ymN5...</td>\n",
       "      <td>Power up your device with this Barnes &amp;amp; No...</td>\n",
       "      <td>[['Electronics', 'eBook Readers &amp; Accessories'...</td>\n",
       "      <td>Barnes &amp;amp; Noble OV/HB-ADP Universal Power Kit</td>\n",
       "      <td>19.65</td>\n",
       "      <td>NaN</td>\n",
       "      <td>{'also_bought': ['B00AAKLIIS', 'B00A668GUO', '...</td>\n",
       "      <td>Barnes &amp;amp; Noble</td>\n",
       "    </tr>\n",
       "  </tbody>\n",
       "</table>\n",
       "</div>"
      ],
      "text/plain": [
       "   itemID        asin                                              imUrl  \\\n",
       "0       0  0528881469  http://ecx.images-amazon.com/images/I/51FnRkJq...   \n",
       "1       1  0594451647  http://ecx.images-amazon.com/images/I/51RjSETO...   \n",
       "2       2  0594481813  http://ecx.images-amazon.com/images/I/41K7ymN5...   \n",
       "\n",
       "                                         description  \\\n",
       "0  Like its award-winning predecessor, the Intell...   \n",
       "1  HDTV Adapter Kit for NOOK HD and NOOK HD+\\nThi...   \n",
       "2  Power up your device with this Barnes &amp; No...   \n",
       "\n",
       "                                          categories  \\\n",
       "0  [['Electronics', 'GPS & Navigation', 'Vehicle ...   \n",
       "1  [['Electronics', 'Computers & Accessories', 'T...   \n",
       "2  [['Electronics', 'eBook Readers & Accessories'...   \n",
       "\n",
       "                                               title   price salesRank  \\\n",
       "0  Rand McNally 528881469 7-inch Intelliroute TND...  299.99       NaN   \n",
       "1  Barnes &amp; Noble HDTV Adapter Kit for NOOK H...   49.95       NaN   \n",
       "2   Barnes &amp; Noble OV/HB-ADP Universal Power Kit   19.65       NaN   \n",
       "\n",
       "                                             related               brand  \n",
       "0  {'also_viewed': ['B006ZOI9OY', 'B00C7FKT2A', '...                 NaN  \n",
       "1  {'also_bought': ['B009L7EEZA', 'B00AGAYQEU', '...                 NaN  \n",
       "2  {'also_bought': ['B00AAKLIIS', 'B00A668GUO', '...  Barnes &amp; Noble  "
      ]
     },
     "execution_count": 4,
     "metadata": {},
     "output_type": "execute_result"
    }
   ],
   "source": [
    "i_id, desc_str = 'itemID', 'description'\n",
    "\n",
    "file_path = './'\n",
    "file_name = 'meta-elec.csv'\n",
    "\n",
    "meta_file = os.path.join(file_path, file_name)\n",
    "\n",
    "df = pd.read_csv(meta_file)\n",
    "df.sort_values(by=[i_id], inplace=True)\n",
    "\n",
    "print('data loaded!')\n",
    "print(f'shape: {df.shape}')\n",
    "\n",
    "df[:3]"
   ]
  },
  {
   "cell_type": "code",
   "execution_count": 5,
   "id": "oriented-reward",
   "metadata": {
    "pycharm": {
     "name": "#%%\n"
    }
   },
   "outputs": [
    {
     "name": "stdout",
     "output_type": "stream",
     "text": [
      "(1181, 10)\n",
      "(8979, 10)\n",
      "(385, 10)\n",
      "(385, 10)\n",
      "(0, 10)\n"
     ]
    }
   ],
   "source": [
    "\n",
    "# sentences: title + brand + category + description | All have title + description\n",
    "\n",
    "title_na_df = df[df['title'].isnull()]\n",
    "print(title_na_df.shape)\n",
    "\n",
    "desc_na_df = df[df['description'].isnull()]\n",
    "print(desc_na_df.shape)\n",
    "\n",
    "na_df = df[df['description'].isnull() & df['title'].isnull()]\n",
    "print(na_df.shape)\n",
    "\n",
    "na3_df = df[df['description'].isnull() & df['title'].isnull() & df['brand'].isnull()]\n",
    "print(na3_df.shape)\n",
    "\n",
    "na4_df = df[df['description'].isnull() & df['title'].isnull() & df['brand'].isnull() & df['categories'].isnull()]\n",
    "print(na4_df.shape)"
   ]
  },
  {
   "cell_type": "code",
   "execution_count": 6,
   "id": "negative-holder",
   "metadata": {
    "pycharm": {
     "name": "#%%\n"
    }
   },
   "outputs": [],
   "source": [
    "\n",
    "df[desc_str] = df[desc_str].fillna(\" \")\n",
    "df['title'] = df['title'].fillna(\" \")\n",
    "df['brand'] = df['brand'].fillna(\" \")\n",
    "df['categories'] = df['categories'].fillna(\" \")\n"
   ]
  },
  {
   "cell_type": "code",
   "execution_count": 7,
   "id": "impaired-river",
   "metadata": {},
   "outputs": [
    {
     "name": "stdout",
     "output_type": "stream",
     "text": [
      "63001\n"
     ]
    }
   ],
   "source": [
    "# item_id\n",
    "item_id = df[i_id].tolist()\n",
    "print(len(item_id))"
   ]
  },
  {
   "cell_type": "code",
   "execution_count": 8,
   "id": "japanese-parts",
   "metadata": {
    "pycharm": {
     "name": "#%%\n"
    }
   },
   "outputs": [
    {
     "name": "stdout",
     "output_type": "stream",
     "text": [
      "<class 'list'>\n",
      "63001\n",
      "['Rand McNally 528881469 7-inch Intelliroute TND 700 Truck GPS   Electronics GPS & Navigation Vehicle GPS Trucking GPS Like its award-winning predecessor, the IntelliRoute TND 500, the Rand McNally IntelliRoute TND 700 GPS device gives truckers much more than just maps and navigation. It offers detailed information about truck stops, rest areas, weigh stations and other points of interest for truckers, as well as tools to help drivers estimate the profitability of a route. And with its seven-inch screen and high-definition display, the IntelliRoute TND 700 redefines readability and usability. Other exclusive features include an oversized stylus, larger buttons, a louder speaker, and tools like a calendar and notepad to help professional drivers complete their routes with greater ease and efficiency.IntelliRoute TND 700At a glance:35-percent more truck-routing information than other GPS devicesSeven-inch, high-definition screenLarge buttons and powerful speaker optimized for truck cabSpoken turn-by-turn directionsQuick planner tool helps determine most profitable routes3-in-1 ChargerCharge your GPS device via in-car adapter, A/C outlet, or mini-USB port.Seven-inch, high-definition screen optimized for truck cab.View larger.Features large buttons, powerful speaker, and a stylus.View larger.Large, Seven-Inch Display and Powerful SpeakerThe IntelliRoute TND 700 sets itself apart from other GPS devices with its large, seven-inch, high-definition screen, over-sized buttons, and stylus--all of which are designed specifically for a truck cab. And unlike GPS devices designed for passenger cars, this truck navigation unit has a speaker that is twice as powerful as typical car speakers, amplifying the sound above cab noise so spoken directions come through loud and clear.35-Percent More Truck-Route InformationEven before your truck has started, you can determine the best route to take by entering your truck\\'s length, width, weight, height, and HazMat information. The IntelliRoute TND 700 has 35-percent more truck routing information than other GPS units. Enter as many as 10 stops and use the device\\'s preferences tools to pass up tolls and construction without missing weigh stations, rest areas, or repair services. Connect the included USB cable to a Windows-compatible computer with internet connection for free updates including road construction.The IntelliRoute TND 700 provides turn-by-turn directions with spoken street names. The patented Smart-Time feature calculates the local time as well as the time at your destination--handy when traveling across multiple time zones.Included in the IntelliRoute TND 700 is searchable truck-stop information from The Trucker\\'s Friend National Truck Stop Directory. You can find the nearest truck stop or search more than 70 amenities like showers, restaurants, Wi-Fi, and more!Customized Trucker Business ToolsLoaded with all of the innovative tools featured in the IntelliRoute TND 500, the IntelliRoute TND 700 introduces more tools vital for truckers. A new calendar feature helps you keep track of important appointments and dates. Also, you can keep all of your reminders and notes together in the same place with the handy notepad feature.Drivers can reduce time-consuming manual calculations with the IntelliRoute TND 700. Drivers can track miles driven in every U.S. state or Canadian province for organized bookkeeping and fuel-tax reporting. User-set timers and logs keep track of driving time and time on duty.The IntelliRoute TND 700 was designed to partner with America\\'s #1 trucker\\'s atlas. Drivers can cross-reference to the page and grid of the Rand McNally Motor Carriers\\' Road Atlas.The Quick Planner tool helps determine the profitability of routes. A commercial-grade address book organizes thousands of entries, and allows you to group them the way that works best for you.With so many helpful tools, off-duty truckers may find themselves switching the IntelliRoute TND 700 to car mode and bringing it along for family trips.The IntelliRoute TND 700 is backed by a one-year parts-and-labor warranty.What\\'s in the BoxIntelliRoute TND 700, windshield mount, truck charger with extended length cable, 120/240V home charger, quick start guide, and USB cable.FeaturesIntelliRoute TND 500Truck navigation you can trustIntelliRoute TND 700Redefining truck navigationScreen size5\"7\"Truck-specific routingSearchable truck stop servicesStandard map detailMulti-stop route optimizationCar modeAccess to updates and upgrades via TND Dock*Commercial-grade address bookTimers & LogsTruck stop ratingsJunction view 3-DFull U.S. & Canada MapsQwerty keyboardEnhanced map detail**High-definition screenOversized stylusCalendarNotepad* Updates and upgrades via TND Dock require a Windows PC and internet connection.** Map detail enabled by larger, high-definition screen', \"Barnes &amp; Noble HDTV Adapter Kit for NOOK HD and NOOK HD+   Electronics Computers & Accessories Touch Screen Tablet Accessories Chargers & Adapters HDTV Adapter Kit for NOOK HD and NOOK HD+ This handy kit enables you to stream content from your NOOK HD or NOOK HD+ to a high-definition TV, via the included adapter and High Speed HDMI Cable. The kit also includes a pass-through that allows you to charge your NOOK while streaming, so there's no danger of running out of battery power before you're done. (A compatible NOOK Power Kit is required for this function and is not included with the adapter kit.)\", 'Barnes &amp; Noble OV/HB-ADP Universal Power Kit Barnes &amp; Noble Electronics eBook Readers & Accessories Power Adapters Power up your device with this Barnes &amp; Noble OV/HB-ADP Universal Power Kit._x000D_ _x000D_ This Universal Power Kit is specifically designed for your Nook HD and Nook HD+. The kit comes in handy in case you need to replace an old AV adapter or just happen to need a back up. Its retractable prongs make it more convenient for your digital lifestyle. Buy this Barnes &amp; Noble OV/HB-ADP Universal Power Kit now!', 'VideoSecu 24&quot; Long Arm TV Wall Mount Low Profile Full Motion Cantilever Swing &amp; Tilt wall bracket for most 22&quot; to 55&quot; LED LCD TV Monitor Flat Panel Screen VESA 200x200 400x400 up to 600x400mm - Articulating Arm Extend up to 24&quot; MAH VideoSecu Electronics Accessories & Supplies Audio & Video Accessories TV Accessories & Parts TV Ceiling & Wall Mounts The VideoSecu TV mount is a mounting solution for most 22\"-47\" LCD LED Plasma TV and some LED up to 55\". It fits VESA 600x400mm (24\"x16\"), 400x400mm (16\"x16\"), 400x200mm (16\"x8\"),300x300mm (12\"x12\"),200x200mm (8\"x8\"),200x100mm (8\"x4\") mounting hole pattern on the back of your TV. Heavy gauge steel construction provides safety loading up to 66lbs display. The two-link arm design provides up to 180 degrees of swivel, 15 degrees tilt up or down, and 24\" extension, make it easier for get perfect viewing angle. The removable VESA plate can be taken off for easy installation. Post-installation level adjustment allows the TV to perfectly level. The on arm cable management ring system design, guides wires and prevent cable pinching. Standard hardware and user manual included. Note: From Nov 27, 600x400 adapters are provided with this product.', 'Barnes &amp; Noble NOOK Tablet 16gb (Color, BNTV250)   Electronics Computers & Accessories Tablets Enjoy your digital books, magazines and newspapers in color, plus movies, TV shows and music from the top names including Netflix, Hulu Plus and Pandora. NOOK tablet features a 7\" color touch-screen display with VividView technology for more than 16 million colors offering remarkable clarity and reduced reflection and glare. A 1.0GHz dual-core processor delivers lightning-fast Web browsing, video viewing and more. 16GB* of memory, expandable to 32GB plus free NOOK Cloud storage.', 'NOOK HD 7&quot; 16GB Tablet   Electronics Computers & Accessories Tablets For design, mobility, and performance; choose the NOOK HD Tablet. This tablet lets you read books, watch movies or stream online content. It features a 7\" touchscreen for easy and accurate navigation. It\\'s equipped with 16GB storage capacity so you can keep all your important documents, photos, videos, and music with you. The tablet includes a MicroSD card slot that allows you to expand storage space. With 802.11b/g/n Wi-Fi connectivity, you ensure a steady Internet connection. Experience mobile entertainment at its best with the NOOK HD Tablet.', \"Barnes and Noble NOOK 7&quot; 8GB WiFi Tablet Barnes &amp; Noble Electronics eBook Readers & Accessories eBook Readers HD videos stream smoothly. Web browsing is lightning-fast. Get books instantly- usually in under 10 seconds. Built for speed- switch between books, movies and games effortlessly. All it takes is a touch. (And a 1GHz dual core processor &amp;amp; 512MB of RAM). NOOK Tablet has the top names in entertainment for the TV shows &amp;amp; movies you love. Start the fun right away with Netflixand Hulu Plus pre-loaded to instantly watch HD movies &amp;amp; popular TV shows. Free trials included. Stunning 7-inch multi-touch screen displays 16 million colors ultra-bright. Exclusive design for remarkable clarity and minimal reflection &amp;amp; glare. It's the ultimate for reading and enjoying the best in entertainment. Enjoy the best apps. Games like Angry Birds &amp;amp; Scrabble. Essentials like Taptu &amp;amp; MyCast Weather. Favorites including Epicurious &amp;amp; Drawing Pad. Plus pre-loaded Sudoku, Crosswords, Chess &amp;amp;Pandora. Popular comics including the largest collection of Marvel graphic novels with vivid colors&amp;amp; rich images, the action nearly jumps off the page. Your issues always in perfect condition to enjoy again and again Extra power and zip for lightning-fast Web browsing, smooth, streaming HD videos &amp;amp; more w/Adobe Flash Player. Wikipedia or Google&#174; look-ups right from the page of your book. Plus all your personal email in one inbox. With so much to do on NOOK Tablet, it's hard to put it down. So we made sure it has extra-long battery life-longerthan Kindle Fire. Read for 11.5 hours or watch 9 hours of video5 - that's 5 entire movies. All on asingle charge. 8 GB of storage, expandable with an SD card for your reading, apps, videos &amp;amp; music even when you're not connected via Wi-Fi&#174;. Plus free Nook CloudTM storage keeps everything safe &amp;amp; secure. We've got you covered. Height\", \"Barnes &amp; Noble Nook eReader - no 3G Barnes &amp; Noble Electronics eBook Readers & Accessories Barnes & Noble Nook eReader - no 3GMeet nook. Access to over one million eBooks, newspapers, and magazines downloaded wirelessly. Get bestsellers and new releases, your favorite eNewspapers, and eMagazines all delivered fast and free via Wi-Fi. Browse the vast Barnes and Noble eBookstore and sample any eBook for free.Choose an eBook using the beautiful color touch screen, then watch it appear instantly onthe E Ink display, where text appears as crisp asa printed page. The 16-level gray scale display offers great contrast with no glare or backlight. Choose from five font sizes so you can read with ease.Features:* No reading glasses required! Choose from 5 different font sizes so you can read with ease. The best-in-class E Ink display witha 16-bit gray scale offers great contrast with noglare or backlight making for hours of reading enjoyment.* Endless shelf space. Store as many as1,500 eBooks, eNewspapers, and eMagazines on yournook's 2 GB of internal storage, so you'll never be without your favorites. Need more space? Just add a Micro SD card.* Download eBooks in seconds. Sample eBooks for free just about anywhere you are, on us. Browse eBooks, magazines and newspaperson Wi-Fi. And every Barnes & Noble has free Wi-Fi, so you can connect at lightning-fast speeds.*Get endless shelf space. With 2GB of memory, nookstores up to 1,500 books, newspapers and magazines. Need even more space? Just add a memory card. An entire library light enough to take with you everywhere, so you'll never be without your favorites.* Free Reading: Try before you buy. Download afree sample of any eBook we sell to discover new authors and check out today's most talked about books for free. Find something you like? It's easy to buy and download the titles you want in seconds.* Reading Now: Use Reading Now, your virtual bookmark, to bring you back to the last book you've read, right where you left off. Coming soon, if you forget your NOOK at home\", \"Barnes &amp; Noble Nook Color eReader Barnes &amp; Noble Electronics eBook Readers & Accessories eBook Readers Barnes & Noble Nook Color eReaderStunning 7-inch color touchscreen; Magazines & newspapers in rich color; Kids'books come alive; Over 2 million titles at your fingertips; Get social, surf the web, play games, even listen to music.Features:* Color Touchscreen: Nothing brings your reading to life like our VividViewTM Color Touchscreen. The rich high resolution backlit display uses more than 16 millioncolors to illuminate stunning images and crisp text for easy reading day or night.* Built-in Wi-Fi: NOOKcolor lets you go beyond reading with our built-in Wi-Fi connection. Surf the web, check your email, read a favorite blog or search Google it's all just a touch away.* Share and Recommend: The exclusive LendMe app lets you lend and borrow books from friends, all with just a few taps. You can also share passages and recommend books right from the page you're reading via Facebook or Twitter. * Make it Yours: From designing your home page to personalizing your bookshelves or choosing just the right font, NOOKcolor lets you create a customized reading experience that you can really call your own. * Just for You: Get ideas for books you'll love with our exclusive NOOKbook Personal Shopping. Our expert booksellers will make recommendations based on books you like, so you can enjoy one great read after another. * Fun with NOOKextras: Kick back and have a little fun with the growing array of exclusive NOOKextras. Crossword puzzles, Sudoku, Chess and Pandora internet radio are among the fun additions to the NOOKcolor experience. * A Library Without Limits: With 8GB of space and expandable memory, your library has virtually no limits. Hold thousands of books, magazines, newspapers, kids' books, songs and photos. And our Lifetime LibraryTM makes sure all your reading is safely stored so you always have access to it, anytime, anywhere.* Read in Style: A full range of high-quality accessories to enhance your NOOKcolor experience. Cover\", 'Barnes &amp; Noble Nook Simple Touch eBook Reader (Wi-Fi Only) Barnes &amp; Noble Electronics eBook Readers & Accessories eBook Readers Barnes & Noble Nook Simple Touch Wi-Fi ReaderIncredibly easy-just touch and read; Ultra-light, thin and the longest battery life; Most advanced E Ink 6\" display w/ crisp fonts; Expert recommendations and fun social features.Features:* Easy to Use 6\" Touchscreen: Shop for the best books, magazines and newspapers right on your NOOK with just a touch. Turn pages, look up words, highlight passages, adjust the font size and style-just by tapping the infrared-powered touchscreen.* Clear, Crisp Reading: NOOK features the most advanced E Ink Pearl technology. The high-contrast 16-level grayscale touchscreen displays text as crisp and clear as a printed page, so you can read easily-even in bright sun. 50% more contrast than NOOK 1st Edition.* Ultra-Light, Ultra-Portable: At 7.48 ounces, NOOK islighter than a paperback and super thin, yet holds up to 1,000 books, magazines and newspapers-so it\\'s easy to take your entire library with you anywhere.* Longest Battery Life: With the longest battery life of any eReader, you can read for up totwo months on just one charge. That\\'s enough timeto start and finish a lot of great stories-or an entire series.* World\\'s Largest Bookstore: Over2 million titles including books, magazines & newspapers -just a touch away! Thousands are FREE, most others $9.99 or less. Pre-order books and subscribe to magazines so you\\'ll get them the instant they\\'re released.* Read Your Way: Make the text bigger or smaller. (See demo) Choose the font style you like. You can even add bookmarks and highlight passages while you read.* Immersive Reading Experience: With 80% less flashing than other eReaders, NOOK delivers an immersive reading experience-so it\\'s easy to lose yourself in your latest read. And with Fast Page, just touch and hold the side button to quickly scan through any book, magazine or newspaper to get to where you want to read lightning fast.* NOOK Friends: Connect with NOOK Friends to share and fi']\n"
     ]
    }
   ],
   "source": [
    "sentences = []\n",
    "for i, row in df.iterrows():\n",
    "    sen = row['title'] + ' ' + row['brand'] + ' '\n",
    "    cates = eval(row['categories'])\n",
    "    if isinstance(cates, list):\n",
    "        for c in cates[0]:\n",
    "            sen = sen + c + ' '\n",
    "    sen += row[desc_str]\n",
    "    sen = sen.replace('\\n', ' ')\n",
    "\n",
    "    sentences.append(sen)\n",
    "\n",
    "# sentences[:10]\n",
    "print(type(sentences))\n",
    "print(len(sentences))\n",
    "print(sentences[:10])"
   ]
  },
  {
   "cell_type": "code",
   "execution_count": 11,
   "id": "eight-casino",
   "metadata": {},
   "outputs": [
    {
     "name": "stdout",
     "output_type": "stream",
     "text": [
      "Rand McNally 528881469 7-inch Intelliroute TND 700 Truck GPS   Electronics GPS & Navigation Vehicle GPS Trucking GPS Like its award-winning predecessor, the IntelliRoute TND 500, the Rand McNally IntelliRoute TND 700 GPS device gives truckers much more than just maps and navigation. It offers detailed information about truck stops, rest areas, weigh stations and other points of interest for truckers, as well as tools to help drivers estimate the profitability of a route. And with its seven-inch screen and high-definition display, the IntelliRoute TND 700 redefines readability and usability. Other exclusive features include an oversized stylus, larger buttons, a louder speaker, and tools like a calendar and notepad to help professional drivers complete their routes with greater ease and efficiency.IntelliRoute TND 700At a glance:35-percent more truck-routing information than other GPS devicesSeven-inch, high-definition screenLarge buttons and powerful speaker optimized for truck cabSpoken turn-by-turn directionsQuick planner tool helps determine most profitable routes3-in-1 ChargerCharge your GPS device via in-car adapter, A/C outlet, or mini-USB port.Seven-inch, high-definition screen optimized for truck cab.View larger.Features large buttons, powerful speaker, and a stylus.View larger.Large, Seven-Inch Display and Powerful SpeakerThe IntelliRoute TND 700 sets itself apart from other GPS devices with its large, seven-inch, high-definition screen, over-sized buttons, and stylus--all of which are designed specifically for a truck cab. And unlike GPS devices designed for passenger cars, this truck navigation unit has a speaker that is twice as powerful as typical car speakers, amplifying the sound above cab noise so spoken directions come through loud and clear.35-Percent More Truck-Route InformationEven before your truck has started, you can determine the best route to take by entering your truck's length, width, weight, height, and HazMat information. The IntelliRoute TND 700 has 35-percent more truck routing information than other GPS units. Enter as many as 10 stops and use the device's preferences tools to pass up tolls and construction without missing weigh stations, rest areas, or repair services. Connect the included USB cable to a Windows-compatible computer with internet connection for free updates including road construction.The IntelliRoute TND 700 provides turn-by-turn directions with spoken street names. The patented Smart-Time feature calculates the local time as well as the time at your destination--handy when traveling across multiple time zones.Included in the IntelliRoute TND 700 is searchable truck-stop information from The Trucker's Friend National Truck Stop Directory. You can find the nearest truck stop or search more than 70 amenities like showers, restaurants, Wi-Fi, and more!Customized Trucker Business ToolsLoaded with all of the innovative tools featured in the IntelliRoute TND 500, the IntelliRoute TND 700 introduces more tools vital for truckers. A new calendar feature helps you keep track of important appointments and dates. Also, you can keep all of your reminders and notes together in the same place with the handy notepad feature.Drivers can reduce time-consuming manual calculations with the IntelliRoute TND 700. Drivers can track miles driven in every U.S. state or Canadian province for organized bookkeeping and fuel-tax reporting. User-set timers and logs keep track of driving time and time on duty.The IntelliRoute TND 700 was designed to partner with America's #1 trucker's atlas. Drivers can cross-reference to the page and grid of the Rand McNally Motor Carriers' Road Atlas.The Quick Planner tool helps determine the profitability of routes. A commercial-grade address book organizes thousands of entries, and allows you to group them the way that works best for you.With so many helpful tools, off-duty truckers may find themselves switching the IntelliRoute TND 700 to car mode and bringing it along for family trips.The IntelliRoute TND 700 is backed by a one-year parts-and-labor warranty.What's in the BoxIntelliRoute TND 700, windshield mount, truck charger with extended length cable, 120/240V home charger, quick start guide, and USB cable.FeaturesIntelliRoute TND 500Truck navigation you can trustIntelliRoute TND 700Redefining truck navigationScreen size5\"7\"Truck-specific routingSearchable truck stop servicesStandard map detailMulti-stop route optimizationCar modeAccess to updates and upgrades via TND Dock*Commercial-grade address bookTimers & LogsTruck stop ratingsJunction view 3-DFull U.S. & Canada MapsQwerty keyboardEnhanced map detail**High-definition screenOversized stylusCalendarNotepad* Updates and upgrades via TND Dock require a Windows PC and internet connection.** Map detail enabled by larger, high-definition screen\n"
     ]
    }
   ],
   "source": [
    "#make a dict item_id & text\n",
    "dict_iid_text = dict(zip(item_id,sentences))\n",
    "print(dict_iid_text[0])"
   ]
  },
  {
   "cell_type": "code",
   "execution_count": 23,
   "id": "cdcf0582",
   "metadata": {},
   "outputs": [
    {
     "name": "stdout",
     "output_type": "stream",
     "text": [
      "Gigabyte GA-P55M - UD2 Ultra Durable 3 Motherboard   Electronics Computers & Accessories Computer Components Motherboards Gigabyte GA-P55M-UD2 Intel Core i7 / i5/ LGA1156/ 4DDR3-2000/ CrossFire/ GbE/ Raid/ 1394 Micro ATX Motherboard\n"
     ]
    }
   ],
   "source": [
    "#print for llama\n",
    "print(dict_iid_text[24305])"
   ]
  },
  {
   "cell_type": "markdown",
   "id": "e3d1d904",
   "metadata": {},
   "source": [
    "import json\n",
    "jsons = json.dumps(dict_iid_text)\n",
    "with open(\"raw_text.json\",'w') as f:\n",
    "    f.write(jsons)\n",
    "print('raw text json done')"
   ]
  }
 ],
 "metadata": {
  "kernelspec": {
   "display_name": "Python 3 (ipykernel)",
   "language": "python",
   "name": "python3"
  },
  "language_info": {
   "codemirror_mode": {
    "name": "ipython",
    "version": 3
   },
   "file_extension": ".py",
   "mimetype": "text/x-python",
   "name": "python",
   "nbconvert_exporter": "python",
   "pygments_lexer": "ipython3",
   "version": "3.8.13"
  }
 },
 "nbformat": 4,
 "nbformat_minor": 5
}
