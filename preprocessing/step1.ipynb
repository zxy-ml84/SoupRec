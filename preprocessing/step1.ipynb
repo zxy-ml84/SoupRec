{
 "cells": [
  {
   "cell_type": "code",
   "execution_count": 1,
   "id": "constitutional-promise",
   "metadata": {},
   "outputs": [],
   "source": [
    "import os, csv\n",
    "import pandas as pd"
   ]
  },
  {
   "cell_type": "code",
   "execution_count": 2,
   "id": "modular-appearance",
   "metadata": {
    "pycharm": {
     "is_executing": true,
     "name": "#%%\n"
    }
   },
   "outputs": [
    {
     "data": {
      "text/plain": [
       "'/nfs/zixuan/MMRec/Amazon_Elec_Dataset'"
      ]
     },
     "execution_count": 2,
     "metadata": {},
     "output_type": "execute_result"
    }
   ],
   "source": [
    "os.chdir('/nfs/zixuan/MMRec/Amazon_Elec_Dataset')\n",
    "os.getcwd()"
   ]
  },
  {
   "cell_type": "code",
   "execution_count": 3,
   "id": "ruled-tonight",
   "metadata": {},
   "outputs": [
    {
     "name": "stdout",
     "output_type": "stream",
     "text": [
      "shape: (7824482, 4)\n"
     ]
    },
    {
     "data": {
      "text/html": [
       "<div>\n",
       "<style scoped>\n",
       "    .dataframe tbody tr th:only-of-type {\n",
       "        vertical-align: middle;\n",
       "    }\n",
       "\n",
       "    .dataframe tbody tr th {\n",
       "        vertical-align: top;\n",
       "    }\n",
       "\n",
       "    .dataframe thead th {\n",
       "        text-align: right;\n",
       "    }\n",
       "</style>\n",
       "<table border=\"1\" class=\"dataframe\">\n",
       "  <thead>\n",
       "    <tr style=\"text-align: right;\">\n",
       "      <th></th>\n",
       "      <th>userID</th>\n",
       "      <th>itemID</th>\n",
       "      <th>rating</th>\n",
       "      <th>timestamp</th>\n",
       "    </tr>\n",
       "  </thead>\n",
       "  <tbody>\n",
       "    <tr>\n",
       "      <th>0</th>\n",
       "      <td>AKM1MP6P0OYPR</td>\n",
       "      <td>0132793040</td>\n",
       "      <td>5.0</td>\n",
       "      <td>1365811200</td>\n",
       "    </tr>\n",
       "    <tr>\n",
       "      <th>1</th>\n",
       "      <td>A2CX7LUOHB2NDG</td>\n",
       "      <td>0321732944</td>\n",
       "      <td>5.0</td>\n",
       "      <td>1341100800</td>\n",
       "    </tr>\n",
       "    <tr>\n",
       "      <th>2</th>\n",
       "      <td>A2NWSAGRHCP8N5</td>\n",
       "      <td>0439886341</td>\n",
       "      <td>1.0</td>\n",
       "      <td>1367193600</td>\n",
       "    </tr>\n",
       "    <tr>\n",
       "      <th>3</th>\n",
       "      <td>A2WNBOD3WNDNKT</td>\n",
       "      <td>0439886341</td>\n",
       "      <td>3.0</td>\n",
       "      <td>1374451200</td>\n",
       "    </tr>\n",
       "    <tr>\n",
       "      <th>4</th>\n",
       "      <td>A1GI0U4ZRJA8WN</td>\n",
       "      <td>0439886341</td>\n",
       "      <td>1.0</td>\n",
       "      <td>1334707200</td>\n",
       "    </tr>\n",
       "  </tbody>\n",
       "</table>\n",
       "</div>"
      ],
      "text/plain": [
       "           userID      itemID  rating   timestamp\n",
       "0   AKM1MP6P0OYPR  0132793040     5.0  1365811200\n",
       "1  A2CX7LUOHB2NDG  0321732944     5.0  1341100800\n",
       "2  A2NWSAGRHCP8N5  0439886341     1.0  1367193600\n",
       "3  A2WNBOD3WNDNKT  0439886341     3.0  1374451200\n",
       "4  A1GI0U4ZRJA8WN  0439886341     1.0  1334707200"
      ]
     },
     "execution_count": 3,
     "metadata": {},
     "output_type": "execute_result"
    }
   ],
   "source": [
    "df = pd.read_csv('ratings_Electronics.csv', names=['userID', 'itemID', 'rating', 'timestamp'], header=None)\n",
    "print(f'shape: {df.shape}')\n",
    "df[:5]"
   ]
  },
  {
   "cell_type": "markdown",
   "id": "comparable-ideal",
   "metadata": {},
   "source": [
    "## 先5-core过滤\n",
    "## 5-core filtering"
   ]
  },
  {
   "cell_type": "code",
   "execution_count": 4,
   "id": "boolean-officer",
   "metadata": {
    "pycharm": {
     "name": "#%%\n"
    }
   },
   "outputs": [
    {
     "name": "stdout",
     "output_type": "stream",
     "text": [
      "shape: (7824482, 4)\n"
     ]
    },
    {
     "data": {
      "text/html": [
       "<div>\n",
       "<style scoped>\n",
       "    .dataframe tbody tr th:only-of-type {\n",
       "        vertical-align: middle;\n",
       "    }\n",
       "\n",
       "    .dataframe tbody tr th {\n",
       "        vertical-align: top;\n",
       "    }\n",
       "\n",
       "    .dataframe thead th {\n",
       "        text-align: right;\n",
       "    }\n",
       "</style>\n",
       "<table border=\"1\" class=\"dataframe\">\n",
       "  <thead>\n",
       "    <tr style=\"text-align: right;\">\n",
       "      <th></th>\n",
       "      <th>userID</th>\n",
       "      <th>itemID</th>\n",
       "      <th>rating</th>\n",
       "      <th>timestamp</th>\n",
       "    </tr>\n",
       "  </thead>\n",
       "  <tbody>\n",
       "    <tr>\n",
       "      <th>0</th>\n",
       "      <td>AKM1MP6P0OYPR</td>\n",
       "      <td>0132793040</td>\n",
       "      <td>5.0</td>\n",
       "      <td>1365811200</td>\n",
       "    </tr>\n",
       "    <tr>\n",
       "      <th>1</th>\n",
       "      <td>A2CX7LUOHB2NDG</td>\n",
       "      <td>0321732944</td>\n",
       "      <td>5.0</td>\n",
       "      <td>1341100800</td>\n",
       "    </tr>\n",
       "    <tr>\n",
       "      <th>2</th>\n",
       "      <td>A2NWSAGRHCP8N5</td>\n",
       "      <td>0439886341</td>\n",
       "      <td>1.0</td>\n",
       "      <td>1367193600</td>\n",
       "    </tr>\n",
       "    <tr>\n",
       "      <th>3</th>\n",
       "      <td>A2WNBOD3WNDNKT</td>\n",
       "      <td>0439886341</td>\n",
       "      <td>3.0</td>\n",
       "      <td>1374451200</td>\n",
       "    </tr>\n",
       "    <tr>\n",
       "      <th>4</th>\n",
       "      <td>A1GI0U4ZRJA8WN</td>\n",
       "      <td>0439886341</td>\n",
       "      <td>1.0</td>\n",
       "      <td>1334707200</td>\n",
       "    </tr>\n",
       "  </tbody>\n",
       "</table>\n",
       "</div>"
      ],
      "text/plain": [
       "           userID      itemID  rating   timestamp\n",
       "0   AKM1MP6P0OYPR  0132793040     5.0  1365811200\n",
       "1  A2CX7LUOHB2NDG  0321732944     5.0  1341100800\n",
       "2  A2NWSAGRHCP8N5  0439886341     1.0  1367193600\n",
       "3  A2WNBOD3WNDNKT  0439886341     3.0  1374451200\n",
       "4  A1GI0U4ZRJA8WN  0439886341     1.0  1334707200"
      ]
     },
     "execution_count": 4,
     "metadata": {},
     "output_type": "execute_result"
    }
   ],
   "source": [
    "df = pd.read_csv('ratings_Electronics.csv', names=['userID', 'itemID', 'rating', 'timestamp'], header=None)\n",
    "print(f'shape: {df.shape}')\n",
    "df[:5]"
   ]
  },
  {
   "cell_type": "code",
   "execution_count": 5,
   "id": "becoming-shore",
   "metadata": {},
   "outputs": [
    {
     "name": "stdout",
     "output_type": "stream",
     "text": [
      "After dropped: (7824482, 4)\n"
     ]
    },
    {
     "data": {
      "text/html": [
       "<div>\n",
       "<style scoped>\n",
       "    .dataframe tbody tr th:only-of-type {\n",
       "        vertical-align: middle;\n",
       "    }\n",
       "\n",
       "    .dataframe tbody tr th {\n",
       "        vertical-align: top;\n",
       "    }\n",
       "\n",
       "    .dataframe thead th {\n",
       "        text-align: right;\n",
       "    }\n",
       "</style>\n",
       "<table border=\"1\" class=\"dataframe\">\n",
       "  <thead>\n",
       "    <tr style=\"text-align: right;\">\n",
       "      <th></th>\n",
       "      <th>userID</th>\n",
       "      <th>itemID</th>\n",
       "      <th>rating</th>\n",
       "      <th>timestamp</th>\n",
       "    </tr>\n",
       "  </thead>\n",
       "  <tbody>\n",
       "    <tr>\n",
       "      <th>0</th>\n",
       "      <td>AKM1MP6P0OYPR</td>\n",
       "      <td>0132793040</td>\n",
       "      <td>5.0</td>\n",
       "      <td>1365811200</td>\n",
       "    </tr>\n",
       "    <tr>\n",
       "      <th>1</th>\n",
       "      <td>A2CX7LUOHB2NDG</td>\n",
       "      <td>0321732944</td>\n",
       "      <td>5.0</td>\n",
       "      <td>1341100800</td>\n",
       "    </tr>\n",
       "    <tr>\n",
       "      <th>2</th>\n",
       "      <td>A2NWSAGRHCP8N5</td>\n",
       "      <td>0439886341</td>\n",
       "      <td>1.0</td>\n",
       "      <td>1367193600</td>\n",
       "    </tr>\n",
       "  </tbody>\n",
       "</table>\n",
       "</div>"
      ],
      "text/plain": [
       "           userID      itemID  rating   timestamp\n",
       "0   AKM1MP6P0OYPR  0132793040     5.0  1365811200\n",
       "1  A2CX7LUOHB2NDG  0321732944     5.0  1341100800\n",
       "2  A2NWSAGRHCP8N5  0439886341     1.0  1367193600"
      ]
     },
     "execution_count": 5,
     "metadata": {},
     "output_type": "execute_result"
    }
   ],
   "source": [
    "k_core = 5\n",
    "learner_id, course_id, tmstmp_str = 'userID', 'itemID', 'timestamp'\n",
    "\n",
    "df.dropna(subset=[learner_id, course_id, tmstmp_str], inplace=True)\n",
    "df.drop_duplicates(subset=[learner_id, course_id, tmstmp_str], inplace=True)\n",
    "print(f'After dropped: {df.shape}')\n",
    "df[:3]"
   ]
  },
  {
   "cell_type": "code",
   "execution_count": 6,
   "id": "placed-albania",
   "metadata": {
    "pycharm": {
     "name": "#%%\n"
    }
   },
   "outputs": [],
   "source": [
    "from collections import Counter\n",
    "import numpy as np\n",
    "\n",
    "min_u_num, min_i_num = 5, 5\n",
    "\n",
    "def get_illegal_ids_by_inter_num(df, field, max_num=None, min_num=None):\n",
    "    if field is None:\n",
    "        return set()\n",
    "    if max_num is None and min_num is None:\n",
    "        return set()\n",
    "\n",
    "    max_num = max_num or np.inf\n",
    "    min_num = min_num or -1\n",
    "\n",
    "    ids = df[field].values\n",
    "    inter_num = Counter(ids)\n",
    "    ids = {id_ for id_ in inter_num if inter_num[id_] < min_num or inter_num[id_] > max_num}\n",
    "    print(f'{len(ids)} illegal_ids_by_inter_num, field={field}')\n",
    "\n",
    "    return ids\n",
    "\n",
    "\n",
    "def filter_by_k_core(df):\n",
    "    while True:\n",
    "        ban_users = get_illegal_ids_by_inter_num(df, field=learner_id, max_num=None, min_num=min_u_num)\n",
    "        ban_items = get_illegal_ids_by_inter_num(df, field=course_id, max_num=None, min_num=min_i_num)\n",
    "        if len(ban_users) == 0 and len(ban_items) == 0:\n",
    "            return\n",
    "\n",
    "        dropped_inter = pd.Series(False, index=df.index)\n",
    "        if learner_id:\n",
    "            dropped_inter |= df[learner_id].isin(ban_users)\n",
    "        if course_id:\n",
    "            dropped_inter |= df[course_id].isin(ban_items)\n",
    "        print(f'{len(dropped_inter)} dropped interactions')\n",
    "        df.drop(df.index[dropped_inter], inplace=True)\n",
    "\n"
   ]
  },
  {
   "cell_type": "markdown",
   "id": "temporal-destiny",
   "metadata": {},
   "source": [
    "## k-core"
   ]
  },
  {
   "cell_type": "code",
   "execution_count": 7,
   "id": "round-medium",
   "metadata": {
    "pycharm": {
     "name": "#%%\n"
    }
   },
   "outputs": [
    {
     "name": "stdout",
     "output_type": "stream",
     "text": [
      "3947632 illegal_ids_by_inter_num, field=userID\n",
      "318219 illegal_ids_by_inter_num, field=itemID\n",
      "7824482 dropped interactions\n",
      "27241 illegal_ids_by_inter_num, field=userID\n",
      "74577 illegal_ids_by_inter_num, field=itemID\n",
      "2109869 dropped interactions\n",
      "29071 illegal_ids_by_inter_num, field=userID\n",
      "3183 illegal_ids_by_inter_num, field=itemID\n",
      "1847652 dropped interactions\n",
      "2034 illegal_ids_by_inter_num, field=userID\n",
      "3667 illegal_ids_by_inter_num, field=itemID\n",
      "1727114 dropped interactions\n",
      "2648 illegal_ids_by_inter_num, field=userID\n",
      "318 illegal_ids_by_inter_num, field=itemID\n",
      "1705108 dropped interactions\n",
      "218 illegal_ids_by_inter_num, field=userID\n",
      "366 illegal_ids_by_inter_num, field=itemID\n",
      "1693333 dropped interactions\n",
      "294 illegal_ids_by_inter_num, field=userID\n",
      "28 illegal_ids_by_inter_num, field=itemID\n",
      "1691006 dropped interactions\n",
      "23 illegal_ids_by_inter_num, field=userID\n",
      "45 illegal_ids_by_inter_num, field=itemID\n",
      "1689720 dropped interactions\n",
      "38 illegal_ids_by_inter_num, field=userID\n",
      "6 illegal_ids_by_inter_num, field=itemID\n",
      "1689448 dropped interactions\n",
      "4 illegal_ids_by_inter_num, field=userID\n",
      "7 illegal_ids_by_inter_num, field=itemID\n",
      "1689272 dropped interactions\n",
      "9 illegal_ids_by_inter_num, field=userID\n",
      "0 illegal_ids_by_inter_num, field=itemID\n",
      "1689228 dropped interactions\n",
      "0 illegal_ids_by_inter_num, field=userID\n",
      "1 illegal_ids_by_inter_num, field=itemID\n",
      "1689192 dropped interactions\n",
      "0 illegal_ids_by_inter_num, field=userID\n",
      "0 illegal_ids_by_inter_num, field=itemID\n",
      "k-core shape: (1689188, 4)\n",
      "shape after k-core: (1689188, 4)\n"
     ]
    },
    {
     "data": {
      "text/html": [
       "<div>\n",
       "<style scoped>\n",
       "    .dataframe tbody tr th:only-of-type {\n",
       "        vertical-align: middle;\n",
       "    }\n",
       "\n",
       "    .dataframe tbody tr th {\n",
       "        vertical-align: top;\n",
       "    }\n",
       "\n",
       "    .dataframe thead th {\n",
       "        text-align: right;\n",
       "    }\n",
       "</style>\n",
       "<table border=\"1\" class=\"dataframe\">\n",
       "  <thead>\n",
       "    <tr style=\"text-align: right;\">\n",
       "      <th></th>\n",
       "      <th>userID</th>\n",
       "      <th>itemID</th>\n",
       "      <th>rating</th>\n",
       "      <th>timestamp</th>\n",
       "    </tr>\n",
       "  </thead>\n",
       "  <tbody>\n",
       "    <tr>\n",
       "      <th>13</th>\n",
       "      <td>AO94DHGC771SJ</td>\n",
       "      <td>0528881469</td>\n",
       "      <td>5.0</td>\n",
       "      <td>1370131200</td>\n",
       "    </tr>\n",
       "    <tr>\n",
       "      <th>14</th>\n",
       "      <td>AMO214LNFCEI4</td>\n",
       "      <td>0528881469</td>\n",
       "      <td>1.0</td>\n",
       "      <td>1290643200</td>\n",
       "    </tr>\n",
       "  </tbody>\n",
       "</table>\n",
       "</div>"
      ],
      "text/plain": [
       "           userID      itemID  rating   timestamp\n",
       "13  AO94DHGC771SJ  0528881469     5.0  1370131200\n",
       "14  AMO214LNFCEI4  0528881469     1.0  1290643200"
      ]
     },
     "execution_count": 7,
     "metadata": {},
     "output_type": "execute_result"
    }
   ],
   "source": [
    "filter_by_k_core(df)\n",
    "print(f'k-core shape: {df.shape}')\n",
    "print(f'shape after k-core: {df.shape}')\n",
    "df[:2]"
   ]
  },
  {
   "cell_type": "markdown",
   "id": "certified-authorization",
   "metadata": {},
   "source": [
    "## Re-index"
   ]
  },
  {
   "cell_type": "code",
   "execution_count": 8,
   "id": "boxed-commonwealth",
   "metadata": {
    "pycharm": {
     "name": "#%%\n"
    }
   },
   "outputs": [],
   "source": [
    "df.reset_index(drop=True, inplace=True)"
   ]
  },
  {
   "cell_type": "code",
   "execution_count": 9,
   "id": "heated-demographic",
   "metadata": {},
   "outputs": [
    {
     "name": "stdout",
     "output_type": "stream",
     "text": [
      "mapping dumped...\n"
     ]
    }
   ],
   "source": [
    "\n",
    "i_mapping_file = 'i_id_mapping.csv'\n",
    "u_mapping_file = 'u_id_mapping.csv'\n",
    "\n",
    "splitting = [0.7, 0.1, 0.2]\n",
    "uid_field, iid_field = learner_id, course_id\n",
    "\n",
    "uni_users = pd.unique(df[uid_field])\n",
    "uni_items = pd.unique(df[iid_field])\n",
    "\n",
    "# start from 0\n",
    "u_id_map = {k: i for i, k in enumerate(uni_users)}\n",
    "i_id_map = {k: i for i, k in enumerate(uni_items)}\n",
    "\n",
    "df[uid_field] = df[uid_field].map(u_id_map)\n",
    "df[iid_field] = df[iid_field].map(i_id_map)\n",
    "df[uid_field] = df[uid_field].astype(int)\n",
    "df[iid_field] = df[iid_field].astype(int)\n",
    "\n",
    "# dump\n",
    "rslt_dir = './'\n",
    "u_df = pd.DataFrame(list(u_id_map.items()), columns=['user_id', 'userID'])\n",
    "i_df = pd.DataFrame(list(i_id_map.items()), columns=['asin', 'itemID'])\n",
    "\n",
    "u_df.to_csv(os.path.join(rslt_dir, u_mapping_file), sep='\\t', index=False)\n",
    "i_df.to_csv(os.path.join(rslt_dir, i_mapping_file), sep='\\t', index=False)\n",
    "print(f'mapping dumped...')"
   ]
  },
  {
   "cell_type": "code",
   "execution_count": 10,
   "id": "economic-documentary",
   "metadata": {},
   "outputs": [
    {
     "name": "stdout",
     "output_type": "stream",
     "text": [
      "splitting ...\n"
     ]
    },
    {
     "data": {
      "text/plain": [
       "array([0.7, 0.8])"
      ]
     },
     "execution_count": 10,
     "metadata": {},
     "output_type": "execute_result"
    }
   ],
   "source": [
    "\n",
    "# =========2. splitting\n",
    "print(f'splitting ...')\n",
    "tot_ratio = sum(splitting)\n",
    "# remove 0.0 in ratios\n",
    "ratios = [i for i in splitting if i > .0]\n",
    "ratios = [_ / tot_ratio for _ in ratios]\n",
    "split_ratios = np.cumsum(ratios)[:-1]\n",
    "\n",
    "#df[tmstmp_str] = df[tmstmp_str].map(lambda x: datetime.strptime(x, \"%Y-%m-%dT%H:%M:%SZ\"))\n",
    "split_ratios"
   ]
  },
  {
   "cell_type": "code",
   "execution_count": 11,
   "id": "competitive-intro",
   "metadata": {
    "pycharm": {
     "name": "#%%\n"
    }
   },
   "outputs": [
    {
     "name": "stdout",
     "output_type": "stream",
     "text": [
      "columns: Index(['userID', 'itemID', 'rating', 'timestamp', 'x_label'], dtype='object')\n"
     ]
    },
    {
     "data": {
      "text/html": [
       "<div>\n",
       "<style scoped>\n",
       "    .dataframe tbody tr th:only-of-type {\n",
       "        vertical-align: middle;\n",
       "    }\n",
       "\n",
       "    .dataframe tbody tr th {\n",
       "        vertical-align: top;\n",
       "    }\n",
       "\n",
       "    .dataframe thead th {\n",
       "        text-align: right;\n",
       "    }\n",
       "</style>\n",
       "<table border=\"1\" class=\"dataframe\">\n",
       "  <thead>\n",
       "    <tr style=\"text-align: right;\">\n",
       "      <th></th>\n",
       "      <th>userID</th>\n",
       "      <th>itemID</th>\n",
       "      <th>rating</th>\n",
       "      <th>timestamp</th>\n",
       "      <th>x_label</th>\n",
       "    </tr>\n",
       "  </thead>\n",
       "  <tbody>\n",
       "    <tr>\n",
       "      <th>0</th>\n",
       "      <td>0</td>\n",
       "      <td>0</td>\n",
       "      <td>5.0</td>\n",
       "      <td>1370131200</td>\n",
       "      <td>0</td>\n",
       "    </tr>\n",
       "    <tr>\n",
       "      <th>1</th>\n",
       "      <td>1</td>\n",
       "      <td>0</td>\n",
       "      <td>1.0</td>\n",
       "      <td>1290643200</td>\n",
       "      <td>0</td>\n",
       "    </tr>\n",
       "    <tr>\n",
       "      <th>2</th>\n",
       "      <td>2</td>\n",
       "      <td>0</td>\n",
       "      <td>3.0</td>\n",
       "      <td>1283990400</td>\n",
       "      <td>0</td>\n",
       "    </tr>\n",
       "    <tr>\n",
       "      <th>3</th>\n",
       "      <td>3</td>\n",
       "      <td>0</td>\n",
       "      <td>2.0</td>\n",
       "      <td>1290556800</td>\n",
       "      <td>0</td>\n",
       "    </tr>\n",
       "    <tr>\n",
       "      <th>4</th>\n",
       "      <td>4</td>\n",
       "      <td>0</td>\n",
       "      <td>1.0</td>\n",
       "      <td>1317254400</td>\n",
       "      <td>0</td>\n",
       "    </tr>\n",
       "  </tbody>\n",
       "</table>\n",
       "</div>"
      ],
      "text/plain": [
       "   userID  itemID  rating   timestamp  x_label\n",
       "0       0       0     5.0  1370131200        0\n",
       "1       1       0     1.0  1290643200        0\n",
       "2       2       0     3.0  1283990400        0\n",
       "3       3       0     2.0  1290556800        0\n",
       "4       4       0     1.0  1317254400        0"
      ]
     },
     "execution_count": 11,
     "metadata": {},
     "output_type": "execute_result"
    }
   ],
   "source": [
    "ts_id = 'timestamp'\n",
    "\n",
    "split_timestamps = list(np.quantile(df[ts_id], split_ratios))\n",
    "# get df training dataset unique users/items\n",
    "df_train = df.loc[df[ts_id] < split_timestamps[0]].copy()\n",
    "df_val = df.loc[(split_timestamps[0] <= df[ts_id]) & (df[ts_id] < split_timestamps[1])].copy()\n",
    "df_test = df.loc[(split_timestamps[1] <= df[ts_id])].copy()\n",
    "\n",
    "x_label, rslt_file = 'x_label', 'elec-indexed.inter'\n",
    "df_train[x_label] = 0\n",
    "df_val[x_label] = 1\n",
    "df_test[x_label] = 2\n",
    "temp_df = pd.concat([df_train, df_val, df_test])\n",
    "temp_df = temp_df[[learner_id, course_id, 'rating', ts_id, x_label]]\n",
    "print(f'columns: {temp_df.columns}')\n",
    "\n",
    "temp_df.columns = [learner_id, course_id, 'rating', ts_id, x_label]\n",
    "\n",
    "temp_df.to_csv(os.path.join(rslt_dir, rslt_file), sep='\\t', index=False)\n",
    "temp_df[:5]\n",
    "#print('done!')"
   ]
  },
  {
   "cell_type": "markdown",
   "id": "clean-twelve",
   "metadata": {},
   "source": []
  },
  {
   "cell_type": "markdown",
   "id": "major-invite",
   "metadata": {},
   "source": []
  },
  {
   "cell_type": "markdown",
   "id": "accessible-latino",
   "metadata": {
    "pycharm": {
     "name": "#%% md\n"
    }
   },
   "source": [
    "## Reload"
   ]
  },
  {
   "cell_type": "code",
   "execution_count": 12,
   "id": "controversial-pierre",
   "metadata": {
    "pycharm": {
     "name": "#%%\n"
    }
   },
   "outputs": [
    {
     "name": "stdout",
     "output_type": "stream",
     "text": [
      "shape: (1689188, 5)\n"
     ]
    },
    {
     "data": {
      "text/html": [
       "<div>\n",
       "<style scoped>\n",
       "    .dataframe tbody tr th:only-of-type {\n",
       "        vertical-align: middle;\n",
       "    }\n",
       "\n",
       "    .dataframe tbody tr th {\n",
       "        vertical-align: top;\n",
       "    }\n",
       "\n",
       "    .dataframe thead th {\n",
       "        text-align: right;\n",
       "    }\n",
       "</style>\n",
       "<table border=\"1\" class=\"dataframe\">\n",
       "  <thead>\n",
       "    <tr style=\"text-align: right;\">\n",
       "      <th></th>\n",
       "      <th>userID</th>\n",
       "      <th>itemID</th>\n",
       "      <th>rating</th>\n",
       "      <th>timestamp</th>\n",
       "      <th>x_label</th>\n",
       "    </tr>\n",
       "  </thead>\n",
       "  <tbody>\n",
       "    <tr>\n",
       "      <th>0</th>\n",
       "      <td>0</td>\n",
       "      <td>0</td>\n",
       "      <td>5.0</td>\n",
       "      <td>1370131200</td>\n",
       "      <td>0</td>\n",
       "    </tr>\n",
       "    <tr>\n",
       "      <th>1</th>\n",
       "      <td>1</td>\n",
       "      <td>0</td>\n",
       "      <td>1.0</td>\n",
       "      <td>1290643200</td>\n",
       "      <td>0</td>\n",
       "    </tr>\n",
       "    <tr>\n",
       "      <th>2</th>\n",
       "      <td>2</td>\n",
       "      <td>0</td>\n",
       "      <td>3.0</td>\n",
       "      <td>1283990400</td>\n",
       "      <td>0</td>\n",
       "    </tr>\n",
       "    <tr>\n",
       "      <th>3</th>\n",
       "      <td>3</td>\n",
       "      <td>0</td>\n",
       "      <td>2.0</td>\n",
       "      <td>1290556800</td>\n",
       "      <td>0</td>\n",
       "    </tr>\n",
       "  </tbody>\n",
       "</table>\n",
       "</div>"
      ],
      "text/plain": [
       "   userID  itemID  rating   timestamp  x_label\n",
       "0       0       0     5.0  1370131200        0\n",
       "1       1       0     1.0  1290643200        0\n",
       "2       2       0     3.0  1283990400        0\n",
       "3       3       0     2.0  1290556800        0"
      ]
     },
     "execution_count": 12,
     "metadata": {},
     "output_type": "execute_result"
    }
   ],
   "source": [
    "indexed_df = pd.read_csv(rslt_file, sep='\\t')\n",
    "print(f'shape: {indexed_df.shape}')\n",
    "indexed_df[:4]"
   ]
  },
  {
   "cell_type": "code",
   "execution_count": 13,
   "id": "sought-laser",
   "metadata": {
    "pycharm": {
     "name": "#%%\n"
    }
   },
   "outputs": [
    {
     "name": "stdout",
     "output_type": "stream",
     "text": [
      "# of unique learners: 192403\n",
      "# of unique courses: 63001\n",
      "min/max of unique learners: 0/192402\n",
      "min/max of unique courses: 0/63000\n"
     ]
    }
   ],
   "source": [
    "u_uni = indexed_df[learner_id].unique()\n",
    "c_uni = indexed_df[course_id].unique()\n",
    "\n",
    "print(f'# of unique learners: {len(u_uni)}')\n",
    "print(f'# of unique courses: {len(c_uni)}')\n",
    "\n",
    "print('min/max of unique learners: {0}/{1}'.format(min(u_uni), max(u_uni)))\n",
    "print('min/max of unique courses: {0}/{1}'.format(min(c_uni), max(c_uni)))\n"
   ]
  },
  {
   "cell_type": "code",
   "execution_count": null,
   "id": "cultural-inflation",
   "metadata": {},
   "outputs": [],
   "source": []
  }
 ],
 "metadata": {
  "kernelspec": {
   "display_name": "Python 3 (ipykernel)",
   "language": "python",
   "name": "python3"
  },
  "language_info": {
   "codemirror_mode": {
    "name": "ipython",
    "version": 3
   },
   "file_extension": ".py",
   "mimetype": "text/x-python",
   "name": "python",
   "nbconvert_exporter": "python",
   "pygments_lexer": "ipython3",
   "version": "3.8.13"
  }
 },
 "nbformat": 4,
 "nbformat_minor": 5
}
